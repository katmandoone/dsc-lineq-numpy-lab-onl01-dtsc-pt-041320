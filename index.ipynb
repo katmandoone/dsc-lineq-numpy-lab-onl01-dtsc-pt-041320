{
 "cells": [
  {
   "cell_type": "markdown",
   "metadata": {},
   "source": [
    "# Solving Systems of Linear Equations with NumPy - Lab\n",
    "\n",
    "## Introduction \n",
    "\n",
    "Now you've gathered all the required skills needed to solve systems of linear equations. You saw why there was a need to calculate inverses of matrices, followed by matrix multiplication to figure out the values of unknown variables. \n",
    "\n",
    "The exercises in this lab present some problems that can be converted into a system of linear equations. \n",
    "\n",
    "## Objectives\n",
    "You will be able to:\n",
    "\n",
    "- Use matrix algebra and NumPy to solve a system of linear equations given a real-life example \n",
    "- Use NumPy's linear algebra solver to solve for systems of linear equations\n",
    "\n",
    "## Exercise 1\n",
    "\n",
    "A coffee shop is having a sale on coffee and tea. \n",
    "\n",
    "On day 1, 29 bags of coffee and 41 bags of tea were sold, for a total of 490 dollars.\n",
    "\n",
    "On day 2, they sold 23 bags of coffee and 41 bags of tea, for which customers paid a total of 448 dollars.  \n",
    "\n",
    "How much does each bag cost?"
   ]
  },
  {
   "cell_type": "code",
   "execution_count": 1,
   "metadata": {},
   "outputs": [
    {
     "data": {
      "text/plain": [
       "array([7., 7.])"
      ]
     },
     "execution_count": 1,
     "metadata": {},
     "output_type": "execute_result"
    }
   ],
   "source": [
    "# Create and solve the relevant system of equations\n",
    "import numpy as np\n",
    "\n",
    "A = np.array([[29,41],[23,41]])\n",
    "B = np.array([490, 448])\n",
    "\n",
    "x = np.linalg.solve(A,B)\n",
    "x"
   ]
  },
  {
   "cell_type": "code",
   "execution_count": 2,
   "metadata": {},
   "outputs": [],
   "source": [
    "# Describe your result\n",
    "# Bags of coffee and tea are both 7 dollars each."
   ]
  },
  {
   "cell_type": "markdown",
   "metadata": {},
   "source": [
    "## Exercise 2\n",
    "\n",
    "The cost of admission to a popular music concert was 162 dollars for 12 children and 3 adults. \n",
    "\n",
    "The admission was 122 dollars for 8 children and 3 adults in the same music concert. \n",
    "\n",
    "How much was the admission for each child and adult?"
   ]
  },
  {
   "cell_type": "code",
   "execution_count": 3,
   "metadata": {},
   "outputs": [
    {
     "data": {
      "text/plain": [
       "array([10., 14.])"
      ]
     },
     "execution_count": 3,
     "metadata": {},
     "output_type": "execute_result"
    }
   ],
   "source": [
    "# Create and solve the relevant system of equations\n",
    "\n",
    "A = np.array([[12,3],[8,3]])\n",
    "B = np.array([162,122])\n",
    "\n",
    "x = np.linalg.solve(A,B)\n",
    "x"
   ]
  },
  {
   "cell_type": "code",
   "execution_count": 4,
   "metadata": {},
   "outputs": [],
   "source": [
    "# Describe your result\n",
    "# 10 for each child, 14 for each adult."
   ]
  },
  {
   "cell_type": "markdown",
   "metadata": {},
   "source": [
    "## Exercise 3\n",
    "\n",
    "You want to make a soup containing tomatoes, carrots, and onions.\n",
    "\n",
    "Suppose you don't know the exact mix to put in, but you know there are 7 individual pieces of vegetables, and there are twice as many tomatoes as onions, and that the 7 pieces of vegetables cost 5.25 USD in total. \n",
    "You also know that onions cost 0.5 USD each, tomatoes cost 0.75 USD and carrots cost 1.25 USD each.\n",
    "\n",
    "Create a system of equations to find out exactly how many of each of the vegetables are in your soup."
   ]
  },
  {
   "cell_type": "code",
   "execution_count": 7,
   "metadata": {},
   "outputs": [
    {
     "data": {
      "text/plain": [
       "array([4., 1., 2.])"
      ]
     },
     "execution_count": 7,
     "metadata": {},
     "output_type": "execute_result"
    }
   ],
   "source": [
    "# Create and solve the relevant system of equations\n",
    "''' t + c + o = 7\n",
    "    \n",
    "    t = 2o\n",
    "    t + 0c - 2o = 0\n",
    "    \n",
    "    .75t + 1.25c + .5o = 5.25'''\n",
    "\n",
    "A = np.array([[1,1,1],[1,0,-2],[.75,1.25,.5]])\n",
    "B = np.array([7,0,5.25])\n",
    "\n",
    "x = np.linalg.solve(A,B)\n",
    "x"
   ]
  },
  {
   "cell_type": "code",
   "execution_count": 8,
   "metadata": {},
   "outputs": [],
   "source": [
    "# Describe your result\n",
    "# 4 tomatoes, 1 carrot, 2 onions"
   ]
  },
  {
   "cell_type": "markdown",
   "metadata": {},
   "source": [
    "## Exercise 4\n",
    "\n",
    "A landlord owns 3 properties: a 1-bedroom, a 2-bedroom, and a 3-bedroom house. \n",
    "\n",
    "The total rent he receives is 1240 USD. \n",
    "\n",
    "He needs to make some repairs, where those repairs cost 10% of the 1-bedroom house’s rent. The 2-bedroom repairs cost 20% of the 2-bedroom rental price and 30% of the 3-bedroom house's rent for its repairs.  The total repair bill for all three houses was 276 USD. \n",
    "\n",
    "The 3-bedroom house's rent is twice the 1-bedroom house’s rent. \n",
    "\n",
    "How much is the individual rent for three houses?"
   ]
  },
  {
   "cell_type": "code",
   "execution_count": 9,
   "metadata": {},
   "outputs": [
    {
     "data": {
      "text/plain": [
       "array([280., 400., 560.])"
      ]
     },
     "execution_count": 9,
     "metadata": {},
     "output_type": "execute_result"
    }
   ],
   "source": [
    "# Create and solve the relevant system of equations\n",
    "'''\n",
    "    a + b + c = 1240\n",
    "    \n",
    "    .1a + .2b + .3c = 276\n",
    "    \n",
    "    c = 2a\n",
    "    -2a + 0b + c = 0'''\n",
    "\n",
    "A = np.array([[1,1,1],[.1,.2,.3],[-2,0,1]])\n",
    "B = np.array([1240,276,0])\n",
    "\n",
    "x = np.linalg.solve(A,B)\n",
    "x"
   ]
  },
  {
   "cell_type": "code",
   "execution_count": 10,
   "metadata": {},
   "outputs": [],
   "source": [
    "# Describe your result\n",
    "# 1-bed: 280\n",
    "# 2-bed: 400\n",
    "# 3-bed: 560"
   ]
  },
  {
   "cell_type": "markdown",
   "metadata": {},
   "source": [
    "## Summary\n",
    "In this lab, you learned how to use NumPy to solve linear equations by taking inverses and matrix multiplication and also using numpy's `solve()` function. You'll now take these skills forward and see how you can define a simple regression problem using linear algebra and solve it with Numpy. "
   ]
  }
 ],
 "metadata": {
  "kernelspec": {
   "display_name": "Python 3",
   "language": "python",
   "name": "python3"
  },
  "language_info": {
   "codemirror_mode": {
    "name": "ipython",
    "version": 3
   },
   "file_extension": ".py",
   "mimetype": "text/x-python",
   "name": "python",
   "nbconvert_exporter": "python",
   "pygments_lexer": "ipython3",
   "version": "3.6.9"
  },
  "toc": {
   "base_numbering": 1,
   "nav_menu": {},
   "number_sections": true,
   "sideBar": true,
   "skip_h1_title": false,
   "title_cell": "Table of Contents",
   "title_sidebar": "Contents",
   "toc_cell": false,
   "toc_position": {},
   "toc_section_display": true,
   "toc_window_display": false
  },
  "varInspector": {
   "cols": {
    "lenName": 16,
    "lenType": 16,
    "lenVar": 40
   },
   "kernels_config": {
    "python": {
     "delete_cmd_postfix": "",
     "delete_cmd_prefix": "del ",
     "library": "var_list.py",
     "varRefreshCmd": "print(var_dic_list())"
    },
    "r": {
     "delete_cmd_postfix": ") ",
     "delete_cmd_prefix": "rm(",
     "library": "var_list.r",
     "varRefreshCmd": "cat(var_dic_list()) "
    }
   },
   "types_to_exclude": [
    "module",
    "function",
    "builtin_function_or_method",
    "instance",
    "_Feature"
   ],
   "window_display": true
  }
 },
 "nbformat": 4,
 "nbformat_minor": 2
}
